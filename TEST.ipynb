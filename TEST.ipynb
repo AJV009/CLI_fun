{
 "cells": [
  {
   "cell_type": "code",
   "execution_count": 1,
   "metadata": {},
   "outputs": [],
   "source": [
    "import json"
   ]
  },
  {
   "cell_type": "code",
   "execution_count": 17,
   "metadata": {
    "scrolled": true
   },
   "outputs": [],
   "source": [
    "json_file = open('fortunes.json')\n",
    "json_data = json.load(json_file)\n",
    "fortunes = json_data['data']"
   ]
  },
  {
   "cell_type": "code",
   "execution_count": 146,
   "metadata": {},
   "outputs": [
    {
     "name": "stdout",
     "output_type": "stream",
     "text": [
      "\" If you always put limit on everything you do, physical or anything else. It will spread into your work and into your life. There are no limits. There are only plateaus, and you must not stay there, you must go beyond them. \"\n",
      " -  Bruce Lee\n"
     ]
    }
   ],
   "source": [
    "import random\n",
    "x = random.randrange(2335)\n",
    "print(\"\\\"\", fortunes[x]['quote'],\"\\\"\")\n",
    "print(\" - \",fortunes[x]['author'])"
   ]
  },
  {
   "cell_type": "code",
   "execution_count": 182,
   "metadata": {},
   "outputs": [],
   "source": [
    "import random\n",
    "import json\n",
    "from colorama import Fore\n",
    "\n",
    "def fortune():\n",
    "    try:\n",
    "        json_file = open('fortunes.json')\n",
    "    except:\n",
    "        print(Fore.RED, \"File not found!\")\n",
    "        return\n",
    "    json_data = json.load(json_file)\n",
    "    fortunes = json_data['data']\n",
    "    x = random.randrange(2335)\n",
    "    print(\"\\\"\", fortunes[x]['quote'],\"\\\"\")\n",
    "    print(\" - \",fortunes[x]['author'])"
   ]
  },
  {
   "cell_type": "code",
   "execution_count": 183,
   "metadata": {},
   "outputs": [
    {
     "name": "stdout",
     "output_type": "stream",
     "text": [
      "\" Do something you really like, and hopefully it pays the rent. As far as I'm concerned, that's success. \"\n",
      " -  Tom Petty\n"
     ]
    }
   ],
   "source": [
    "runing()"
   ]
  },
  {
   "cell_type": "code",
   "execution_count": null,
   "metadata": {},
   "outputs": [],
   "source": []
  }
 ],
 "metadata": {
  "kernelspec": {
   "display_name": "datacamp",
   "language": "python",
   "name": "datacamp"
  },
  "language_info": {
   "codemirror_mode": {
    "name": "ipython",
    "version": 3
   },
   "file_extension": ".py",
   "mimetype": "text/x-python",
   "name": "python",
   "nbconvert_exporter": "python",
   "pygments_lexer": "ipython3",
   "version": "3.6.10"
  }
 },
 "nbformat": 4,
 "nbformat_minor": 4
}
